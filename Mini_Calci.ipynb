{
  "nbformat": 4,
  "nbformat_minor": 0,
  "metadata": {
    "colab": {
      "provenance": []
    },
    "kernelspec": {
      "name": "python3",
      "display_name": "Python 3"
    },
    "language_info": {
      "name": "python"
    }
  },
  "cells": [
    {
      "cell_type": "code",
      "execution_count": 2,
      "metadata": {
        "colab": {
          "base_uri": "https://localhost:8080/"
        },
        "id": "i8KlqWQJJ3Yt",
        "outputId": "6bba42ba-0822-4486-eb35-283220a6cece"
      },
      "outputs": [
        {
          "output_type": "stream",
          "name": "stdout",
          "text": [
            "Select operation:\n",
            "1. Add\n",
            "2. Subtract\n",
            "3. Multiply\n",
            "4. Divide\n",
            "Enter choice (1/2/3/4): 2\n",
            "Enter first number: 25\n",
            "Enter second number: 63\n",
            "The result is: -38.0\n"
          ]
        }
      ],
      "source": [
        " #Mini Calci\n",
        "\n",
        "def add(x, y):\n",
        "    return x + y\n",
        "\n",
        "def subtract(x, y):\n",
        "    return x - y\n",
        "\n",
        "def multiply(x, y):\n",
        "    return x * y\n",
        "\n",
        "def divide(x, y):\n",
        "    if y == 0:\n",
        "        return \"Error! Division by zero.\"\n",
        "    else:\n",
        "        return x / y\n",
        "\n",
        "# User input\n",
        "print(\"Select operation:\")\n",
        "print(\"1. Add\")\n",
        "print(\"2. Subtract\")\n",
        "print(\"3. Multiply\")\n",
        "print(\"4. Divide\")\n",
        "\n",
        "choice = input(\"Enter choice (1/2/3/4): \")\n",
        "\n",
        "num1 = float(input(\"Enter first number: \"))\n",
        "num2 = float(input(\"Enter second number: \"))\n",
        "\n",
        "if choice == '1':\n",
        "    print(f\"The result is: {add(num1, num2)}\")\n",
        "elif choice == '2':\n",
        "    print(f\"The result is: {subtract(num1, num2)}\")\n",
        "elif choice == '3':\n",
        "    print(f\"The result is: {multiply(num1, num2)}\")\n",
        "elif choice == '4':\n",
        "    print(f\"The result is: {divide(num1, num2)}\")\n",
        "else:\n",
        "    print(\"Invalid input\")"
      ]
    }
  ]
}